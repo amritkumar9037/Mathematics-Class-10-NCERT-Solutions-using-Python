{
 "cells": [
  {
   "cell_type": "code",
   "execution_count": 1,
   "metadata": {},
   "outputs": [
    {
     "name": "stdout",
     "output_type": "stream",
     "text": [
      "a,b,c in Quadratic Equation aX²+bX+c=0 is:\n",
      "('a=', 1.0)\n",
      "('b=', -3.0)\n",
      "('c=', 1.0)\n",
      "('Discriminant is:', 5.0)\n",
      "Roots are real and unequal\n",
      "(2.618033988749895, -0.3819660112501051)\n"
     ]
    }
   ],
   "source": [
    "import numpy as np\n",
    "print(\"a,b,c in Quadratic Equation aX²+bX+c=0 is:\")\n",
    "a1=np.array([1,-3,1],dtype=float)               #Enter a,b,c cofficients as array\n",
    "print('a=',a1[0])\n",
    "print(\"b=\",a1[1])\n",
    "print(\"c=\",a1[2])\n",
    "dis=(a1[1]*a1[1])-4*(a1[0]*a1[2])\n",
    "print(\"Discriminant is:\",dis)\n",
    "if dis<0:\n",
    "    print(\"Roots are not real\")\n",
    "elif dis==0:\n",
    "    print(\"Roots are real and equal\")\n",
    "    x=(-a1[1])/(2*a1[0])\n",
    "    print(x,x)\n",
    "else:\n",
    "    print(\"Roots are real and unequal\")\n",
    "    sq=pow(dis,0.5)\n",
    "    x=(sq-a1[1])/(2*a1[0])\n",
    "    y=(sq+a1[1])/(2*a1[0])\n",
    "    print(x,y)\n"
   ]
  }
 ],
 "metadata": {
  "interpreter": {
   "hash": "e4dbb30b1a7fad1bab17be88bfae87b7703e1d1e3aa0ea646531b112f291990a"
  },
  "kernelspec": {
   "display_name": "Python 2.7.16 32-bit",
   "language": "python",
   "name": "python3"
  },
  "language_info": {
   "codemirror_mode": {
    "name": "ipython",
    "version": 2
   },
   "file_extension": ".py",
   "mimetype": "text/x-python",
   "name": "python",
   "nbconvert_exporter": "python",
   "pygments_lexer": "ipython2",
   "version": "2.7.16"
  },
  "orig_nbformat": 4
 },
 "nbformat": 4,
 "nbformat_minor": 2
}
